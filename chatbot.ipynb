{
 "cells": [
  {
   "cell_type": "markdown",
   "metadata": {},
   "source": [
    "## CHATBOT"
   ]
  },
  {
   "cell_type": "code",
   "execution_count": 3,
   "metadata": {
    "collapsed": true
   },
   "outputs": [],
   "source": [
    "from pymongo import MongoClient\n",
    "import pandas as pd\n",
    "import numpy as np\n",
    "pd.set_option('display.max_colwidth',-1) # ini untuk melihat full column\n",
    "client = MongoClient('localhost', 27017) #ihi host\n",
    "db=client.get_database('fujiatma') # ini nama database sebelumnya create dlu di mongodb atau di robomongo\n",
    "collection=db.get_collection('data')# ini nama collectionnya (misal data)\n",
    "#collection.find_one({ \"question\" : \"Does it fit Nook GlowLight?\"})# ini contoh query saja\n",
    "\n",
    "\n",
    "#cara dump ke mongo\n",
    "#mongoimport --db fujiatma --collection data --file intents.json"
   ]
  },
  {
   "cell_type": "code",
   "execution_count": 4,
   "metadata": {},
   "outputs": [
    {
     "data": {
      "text/html": [
       "<div>\n",
       "<table border=\"1\" class=\"dataframe\">\n",
       "  <thead>\n",
       "    <tr style=\"text-align: right;\">\n",
       "      <th></th>\n",
       "      <th>_id</th>\n",
       "      <th>answer</th>\n",
       "      <th>answerTime</th>\n",
       "      <th>answerType</th>\n",
       "      <th>asin</th>\n",
       "      <th>intents</th>\n",
       "      <th>question</th>\n",
       "      <th>questionType</th>\n",
       "      <th>unixTime</th>\n",
       "    </tr>\n",
       "  </thead>\n",
       "  <tbody>\n",
       "    <tr>\n",
       "      <th>0</th>\n",
       "      <td>5a6b45346337ffb0d53c8710</td>\n",
       "      <td>Yes this fits both the nook color and the same-shaped nook tablet</td>\n",
       "      <td>Dec 27, 2013</td>\n",
       "      <td>Y</td>\n",
       "      <td>0594033926</td>\n",
       "      <td>NaN</td>\n",
       "      <td>Is this cover the one that fits the old nook color? Which I believe is 8x5.</td>\n",
       "      <td>yes/no</td>\n",
       "      <td>1.388131e+09</td>\n",
       "    </tr>\n",
       "    <tr>\n",
       "      <th>1</th>\n",
       "      <td>5a6b45346337ffb0d53c8711</td>\n",
       "      <td>No. The nook color or color tablet</td>\n",
       "      <td>Jan 5, 2015</td>\n",
       "      <td>N</td>\n",
       "      <td>0594033926</td>\n",
       "      <td>NaN</td>\n",
       "      <td>Does it fit Nook GlowLight?</td>\n",
       "      <td>yes/no</td>\n",
       "      <td>1.420445e+09</td>\n",
       "    </tr>\n",
       "    <tr>\n",
       "      <th>2</th>\n",
       "      <td>5a6b45346337ffb0d53c8712</td>\n",
       "      <td>I don't think so. The nook color is 5 x 8 so not sure anything smaller would stay locked in, but would be close.</td>\n",
       "      <td>2 days ago</td>\n",
       "      <td>NaN</td>\n",
       "      <td>0594033926</td>\n",
       "      <td>NaN</td>\n",
       "      <td>Would it fit Nook 1st Edition? 4.9in x 7.7in ?</td>\n",
       "      <td>open-ended</td>\n",
       "      <td>NaN</td>\n",
       "    </tr>\n",
       "    <tr>\n",
       "      <th>3</th>\n",
       "      <td>5a6b45346337ffb0d53c8713</td>\n",
       "      <td>yes</td>\n",
       "      <td>17 days ago</td>\n",
       "      <td>Y</td>\n",
       "      <td>0594033926</td>\n",
       "      <td>NaN</td>\n",
       "      <td>Will this fit a Nook Color that's 5 x 8?</td>\n",
       "      <td>yes/no</td>\n",
       "      <td>NaN</td>\n",
       "    </tr>\n",
       "    <tr>\n",
       "      <th>4</th>\n",
       "      <td>5a6b45346337ffb0d53c8714</td>\n",
       "      <td>No, the tab is smaller than the 'color'</td>\n",
       "      <td>Feb 10, 2015</td>\n",
       "      <td>N</td>\n",
       "      <td>0594033926</td>\n",
       "      <td>NaN</td>\n",
       "      <td>will this fit the Samsung Galaxy Tab 4 Nook 10.1</td>\n",
       "      <td>yes/no</td>\n",
       "      <td>1.423555e+09</td>\n",
       "    </tr>\n",
       "  </tbody>\n",
       "</table>\n",
       "</div>"
      ],
      "text/plain": [
       "                        _id  \\\n",
       "0  5a6b45346337ffb0d53c8710   \n",
       "1  5a6b45346337ffb0d53c8711   \n",
       "2  5a6b45346337ffb0d53c8712   \n",
       "3  5a6b45346337ffb0d53c8713   \n",
       "4  5a6b45346337ffb0d53c8714   \n",
       "\n",
       "                                                                                                             answer  \\\n",
       "0  Yes this fits both the nook color and the same-shaped nook tablet                                                  \n",
       "1  No. The nook color or color tablet                                                                                 \n",
       "2  I don't think so. The nook color is 5 x 8 so not sure anything smaller would stay locked in, but would be close.   \n",
       "3  yes                                                                                                                \n",
       "4  No, the tab is smaller than the 'color'                                                                            \n",
       "\n",
       "     answerTime answerType        asin intents  \\\n",
       "0  Dec 27, 2013  Y          0594033926  NaN      \n",
       "1  Jan 5, 2015   N          0594033926  NaN      \n",
       "2  2 days ago    NaN        0594033926  NaN      \n",
       "3  17 days ago   Y          0594033926  NaN      \n",
       "4  Feb 10, 2015  N          0594033926  NaN      \n",
       "\n",
       "                                                                      question  \\\n",
       "0  Is this cover the one that fits the old nook color? Which I believe is 8x5.   \n",
       "1  Does it fit Nook GlowLight?                                                   \n",
       "2  Would it fit Nook 1st Edition? 4.9in x 7.7in ?                                \n",
       "3  Will this fit a Nook Color that's 5 x 8?                                      \n",
       "4  will this fit the Samsung Galaxy Tab 4 Nook 10.1                              \n",
       "\n",
       "  questionType      unixTime  \n",
       "0  yes/no       1.388131e+09  \n",
       "1  yes/no       1.420445e+09  \n",
       "2  open-ended  NaN            \n",
       "3  yes/no      NaN            \n",
       "4  yes/no       1.423555e+09  "
      ]
     },
     "execution_count": 4,
     "metadata": {},
     "output_type": "execute_result"
    }
   ],
   "source": [
    "cursor=collection.find() # query untuk melihat isi collection\n",
    "data = pd.DataFrame(list(collection.find())) # merubah ke data frame\n",
    "#data=data[data['question']!=np.nan]\n",
    "#data=data.dropna(axis=0, how='all')\n",
    "data.head()"
   ]
  },
  {
   "cell_type": "code",
   "execution_count": 85,
   "metadata": {},
   "outputs": [
    {
     "name": "stdout",
     "output_type": "stream",
     "text": [
      "banyak data: 27000\n"
     ]
    },
    {
     "data": {
      "text/html": [
       "<div>\n",
       "<table border=\"1\" class=\"dataframe\">\n",
       "  <thead>\n",
       "    <tr style=\"text-align: right;\">\n",
       "      <th></th>\n",
       "      <th>question</th>\n",
       "      <th>answer</th>\n",
       "    </tr>\n",
       "  </thead>\n",
       "  <tbody>\n",
       "    <tr>\n",
       "      <th>0</th>\n",
       "      <td>Is this cover the one that fits the old nook color? Which I believe is 8x5.</td>\n",
       "      <td>Yes this fits both the nook color and the same-shaped nook tablet</td>\n",
       "    </tr>\n",
       "    <tr>\n",
       "      <th>1</th>\n",
       "      <td>Does it fit Nook GlowLight?</td>\n",
       "      <td>No. The nook color or color tablet</td>\n",
       "    </tr>\n",
       "    <tr>\n",
       "      <th>2</th>\n",
       "      <td>Would it fit Nook 1st Edition? 4.9in x 7.7in ?</td>\n",
       "      <td>I don't think so. The nook color is 5 x 8 so not sure anything smaller would stay locked in, but would be close.</td>\n",
       "    </tr>\n",
       "    <tr>\n",
       "      <th>3</th>\n",
       "      <td>Will this fit a Nook Color that's 5 x 8?</td>\n",
       "      <td>yes</td>\n",
       "    </tr>\n",
       "    <tr>\n",
       "      <th>4</th>\n",
       "      <td>will this fit the Samsung Galaxy Tab 4 Nook 10.1</td>\n",
       "      <td>No, the tab is smaller than the 'color'</td>\n",
       "    </tr>\n",
       "  </tbody>\n",
       "</table>\n",
       "</div>"
      ],
      "text/plain": [
       "                                                                      question  \\\n",
       "0  Is this cover the one that fits the old nook color? Which I believe is 8x5.   \n",
       "1  Does it fit Nook GlowLight?                                                   \n",
       "2  Would it fit Nook 1st Edition? 4.9in x 7.7in ?                                \n",
       "3  Will this fit a Nook Color that's 5 x 8?                                      \n",
       "4  will this fit the Samsung Galaxy Tab 4 Nook 10.1                              \n",
       "\n",
       "                                                                                                             answer  \n",
       "0  Yes this fits both the nook color and the same-shaped nook tablet                                                 \n",
       "1  No. The nook color or color tablet                                                                                \n",
       "2  I don't think so. The nook color is 5 x 8 so not sure anything smaller would stay locked in, but would be close.  \n",
       "3  yes                                                                                                               \n",
       "4  No, the tab is smaller than the 'color'                                                                           "
      ]
     },
     "execution_count": 85,
     "metadata": {},
     "output_type": "execute_result"
    }
   ],
   "source": [
    "data_ques_answer=data[['question','answer']][:27000]\n",
    "print \"banyak data:\", len(data_ques_answer)\n",
    "data_ques_answer.head()"
   ]
  },
  {
   "cell_type": "code",
   "execution_count": 59,
   "metadata": {
    "collapsed": true
   },
   "outputs": [],
   "source": [
    "# proses jika di jadikan satu\n",
    "import nltk\n",
    "import string\n",
    "from nltk.corpus import stopwords\n",
    "from nltk.stem.porter import PorterStemmer\n",
    "from nltk.tokenize import word_tokenize\n",
    "porter_stemmer = PorterStemmer()\n",
    "\n",
    "def preprocess(corpus):\n",
    "    #melakukan proses lowercase, stopword removal, dan punctuation removal\n",
    "    print \"proses lowercase\"\n",
    "    m=[]\n",
    "\n",
    "    for item in range(len(corpus)):\n",
    "        text=string.lower(corpus['question'].iloc[item])\n",
    "        #jawab=string.lower(corpus['answer'].iloc[item])\n",
    "        corpus['question'].iloc[item]=text  \n",
    "        #corpus['answer'].iloc[item]=jawab\n",
    "\n",
    "    print \"proses stopwords removal\"\n",
    "    cachedStopWords = set(stopwords.words(\"english\"))\n",
    "    for i in range(len(corpus)):\n",
    "        sent=corpus['question'].iloc[i]\n",
    "        kt=\" \".join([word for word in sent.split() if word not in cachedStopWords])\n",
    "        corpus['question'].iloc[i]=kt\n",
    "        \n",
    "    print \"proses punctuation\"\n",
    "    remove=string.punctuation\n",
    "\n",
    "    for i in range(len(corpus)):\n",
    "        sent=data_ques_answer['question'].iloc[i]\n",
    "        kd=' '.join(word.strip(remove) for word in sent.split())\n",
    "        corpus['question'].iloc[i]=kd\n",
    "    return corpus"
   ]
  },
  {
   "cell_type": "code",
   "execution_count": 86,
   "metadata": {},
   "outputs": [
    {
     "name": "stdout",
     "output_type": "stream",
     "text": [
      "proses lowercase\n",
      "proses stopwords removal\n",
      "proses punctuation\n",
      "jumlah data: 27000\n"
     ]
    },
    {
     "data": {
      "text/html": [
       "<div>\n",
       "<table border=\"1\" class=\"dataframe\">\n",
       "  <thead>\n",
       "    <tr style=\"text-align: right;\">\n",
       "      <th></th>\n",
       "      <th>question</th>\n",
       "      <th>answer</th>\n",
       "    </tr>\n",
       "  </thead>\n",
       "  <tbody>\n",
       "    <tr>\n",
       "      <th>0</th>\n",
       "      <td>cover one fits old nook color believe 8x5</td>\n",
       "      <td>Yes this fits both the nook color and the same-shaped nook tablet</td>\n",
       "    </tr>\n",
       "    <tr>\n",
       "      <th>1</th>\n",
       "      <td>fit nook glowlight</td>\n",
       "      <td>No. The nook color or color tablet</td>\n",
       "    </tr>\n",
       "    <tr>\n",
       "      <th>2</th>\n",
       "      <td>would fit nook 1st edition 4.9in x 7.7in</td>\n",
       "      <td>I don't think so. The nook color is 5 x 8 so not sure anything smaller would stay locked in, but would be close.</td>\n",
       "    </tr>\n",
       "    <tr>\n",
       "      <th>3</th>\n",
       "      <td>fit nook color that's 5 x 8</td>\n",
       "      <td>yes</td>\n",
       "    </tr>\n",
       "    <tr>\n",
       "      <th>4</th>\n",
       "      <td>fit samsung galaxy tab 4 nook 10.1</td>\n",
       "      <td>No, the tab is smaller than the 'color'</td>\n",
       "    </tr>\n",
       "  </tbody>\n",
       "</table>\n",
       "</div>"
      ],
      "text/plain": [
       "                                    question  \\\n",
       "0  cover one fits old nook color believe 8x5   \n",
       "1  fit nook glowlight                          \n",
       "2  would fit nook 1st edition 4.9in x 7.7in    \n",
       "3  fit nook color that's 5 x 8                 \n",
       "4  fit samsung galaxy tab 4 nook 10.1          \n",
       "\n",
       "                                                                                                             answer  \n",
       "0  Yes this fits both the nook color and the same-shaped nook tablet                                                 \n",
       "1  No. The nook color or color tablet                                                                                \n",
       "2  I don't think so. The nook color is 5 x 8 so not sure anything smaller would stay locked in, but would be close.  \n",
       "3  yes                                                                                                               \n",
       "4  No, the tab is smaller than the 'color'                                                                           "
      ]
     },
     "execution_count": 86,
     "metadata": {},
     "output_type": "execute_result"
    }
   ],
   "source": [
    "data_normal=preprocess(data_ques_answer)\n",
    "print 'jumlah data:',len(data_normal)\n",
    "data_normal.head()"
   ]
  },
  {
   "cell_type": "code",
   "execution_count": 69,
   "metadata": {
    "collapsed": true
   },
   "outputs": [],
   "source": [
    "from sklearn.naive_bayes import MultinomialNB\n",
    "from sklearn.feature_extraction.text import CountVectorizer\n",
    "from sklearn.svm import LinearSVC"
   ]
  },
  {
   "cell_type": "code",
   "execution_count": 62,
   "metadata": {},
   "outputs": [
    {
     "data": {
      "text/plain": [
       "0    cover one fits old nook color believe 8x5\n",
       "1    fit nook glowlight                       \n",
       "2    would fit nook 1st edition 4.9in x 7.7in \n",
       "3    fit nook color that's 5 x 8              \n",
       "4    fit samsung galaxy tab 4 nook 10.1       \n",
       "Name: question, dtype: object"
      ]
     },
     "execution_count": 62,
     "metadata": {},
     "output_type": "execute_result"
    }
   ],
   "source": [
    "count_vect = CountVectorizer()\n",
    "X_train_counts = count_vect.fit_transform(data_normal.question)\n",
    "X_train_counts.shape\n",
    "\n",
    "from sklearn.feature_extraction.text import TfidfTransformer\n",
    "tf_transformer = TfidfTransformer(use_idf=False).fit(X_train_counts)\n",
    "X_train_tf = tf_transformer.transform(X_train_counts)\n",
    "X_train_tf.shape\n",
    "\n",
    "\n",
    "\n",
    "tfidf_transformer = TfidfTransformer()\n",
    "X_train_tfidf = tfidf_transformer.fit_transform(X_train_counts)\n",
    "X_train_tfidf.shape\n",
    "data_normal.question[:5]"
   ]
  },
  {
   "cell_type": "code",
   "execution_count": 70,
   "metadata": {},
   "outputs": [
    {
     "data": {
      "text/plain": [
       "0    Yes this fits both the nook color and the same-shaped nook tablet                                               \n",
       "1    No. The nook color or color tablet                                                                              \n",
       "2    I don't think so. The nook color is 5 x 8 so not sure anything smaller would stay locked in, but would be close.\n",
       "3    yes                                                                                                             \n",
       "4    No, the tab is smaller than the 'color'                                                                         \n",
       "Name: answer, dtype: object"
      ]
     },
     "execution_count": 70,
     "metadata": {},
     "output_type": "execute_result"
    }
   ],
   "source": [
    "clf = LinearSVC().fit(X_train_tfidf, data_normal.answer[:100])\n",
    "data_normal.answer[:5]"
   ]
  },
  {
   "cell_type": "code",
   "execution_count": 84,
   "metadata": {},
   "outputs": [
    {
     "data": {
      "text/plain": [
       "0.98999999999999999"
      ]
     },
     "execution_count": 84,
     "metadata": {},
     "output_type": "execute_result"
    }
   ],
   "source": [
    "clf.score(X_train_tfidf, data_normal.answer[:100])"
   ]
  },
  {
   "cell_type": "code",
   "execution_count": 81,
   "metadata": {},
   "outputs": [
    {
     "name": "stdout",
     "output_type": "stream",
     "text": [
      "pertanyaan:\n",
      "5x8\n",
      "jawab:\n",
      "[u'Yes']\n"
     ]
    }
   ],
   "source": [
    "docs_new = ''\n",
    "print 'pertanyaan:\\n',docs_new\n",
    "docs_new=string.lower(docs_new)\n",
    "docs_new1=[]\n",
    "docs_new1.append(docs_new)\n",
    "docs_new1\n",
    "\n",
    "X_new_counts = count_vect.transform(docs_new1)\n",
    "X_new_tfidf = tfidf_transformer.transform(X_new_counts)\n",
    "predicted = clf.predict(X_new_tfidf)\n",
    "print \"jawab:\\n\", predicted"
   ]
  },
  {
   "cell_type": "code",
   "execution_count": 43,
   "metadata": {},
   "outputs": [
    {
     "data": {
      "text/plain": [
       "array([u'fit samsung galaxy tab 4 nook 10.1'], \n",
       "      dtype='<U114')"
      ]
     },
     "execution_count": 43,
     "metadata": {},
     "output_type": "execute_result"
    }
   ],
   "source": [
    "X_new_counts = count_vect.transform(docs_new1)\n",
    "X_new_tfidf = tfidf_transformer.transform(X_new_counts)\n",
    "predicted = clf.predict(X_new_tfidf)\n",
    "predicted"
   ]
  },
  {
   "cell_type": "markdown",
   "metadata": {},
   "source": [
    "## PROSES DETAIL"
   ]
  },
  {
   "cell_type": "code",
   "execution_count": 57,
   "metadata": {},
   "outputs": [
    {
     "name": "stdout",
     "output_type": "stream",
     "text": [
      "                                                                      question  \\\n",
      "0  Is this cover the one that fits the old nook color? Which I believe is 8x5.   \n",
      "1  Does it fit Nook GlowLight?                                                   \n",
      "2  Would it fit Nook 1st Edition? 4.9in x 7.7in ?                                \n",
      "3  Will this fit a Nook Color that's 5 x 8?                                      \n",
      "4  will this fit the Samsung Galaxy Tab 4 Nook 10.1                              \n",
      "\n",
      "                                                                                                             answer  \n",
      "0  Yes this fits both the nook color and the same-shaped nook tablet                                                 \n",
      "1  No. The nook color or color tablet                                                                                \n",
      "2  I don't think so. The nook color is 5 x 8 so not sure anything smaller would stay locked in, but would be close.  \n",
      "3  yes                                                                                                               \n",
      "4  No, the tab is smaller than the 'color'                                                                           \n",
      "proses lowercase\n",
      "banyak data: 27000\n"
     ]
    },
    {
     "data": {
      "text/html": [
       "<div>\n",
       "<table border=\"1\" class=\"dataframe\">\n",
       "  <thead>\n",
       "    <tr style=\"text-align: right;\">\n",
       "      <th></th>\n",
       "      <th>question</th>\n",
       "      <th>answer</th>\n",
       "    </tr>\n",
       "  </thead>\n",
       "  <tbody>\n",
       "    <tr>\n",
       "      <th>0</th>\n",
       "      <td>is this cover the one that fits the old nook color? which i believe is 8x5.</td>\n",
       "      <td>Yes this fits both the nook color and the same-shaped nook tablet</td>\n",
       "    </tr>\n",
       "    <tr>\n",
       "      <th>1</th>\n",
       "      <td>does it fit nook glowlight?</td>\n",
       "      <td>No. The nook color or color tablet</td>\n",
       "    </tr>\n",
       "    <tr>\n",
       "      <th>2</th>\n",
       "      <td>would it fit nook 1st edition? 4.9in x 7.7in ?</td>\n",
       "      <td>I don't think so. The nook color is 5 x 8 so not sure anything smaller would stay locked in, but would be close.</td>\n",
       "    </tr>\n",
       "    <tr>\n",
       "      <th>3</th>\n",
       "      <td>will this fit a nook color that's 5 x 8?</td>\n",
       "      <td>yes</td>\n",
       "    </tr>\n",
       "    <tr>\n",
       "      <th>4</th>\n",
       "      <td>will this fit the samsung galaxy tab 4 nook 10.1</td>\n",
       "      <td>No, the tab is smaller than the 'color'</td>\n",
       "    </tr>\n",
       "  </tbody>\n",
       "</table>\n",
       "</div>"
      ],
      "text/plain": [
       "                                                                      question  \\\n",
       "0  is this cover the one that fits the old nook color? which i believe is 8x5.   \n",
       "1  does it fit nook glowlight?                                                   \n",
       "2  would it fit nook 1st edition? 4.9in x 7.7in ?                                \n",
       "3  will this fit a nook color that's 5 x 8?                                      \n",
       "4  will this fit the samsung galaxy tab 4 nook 10.1                              \n",
       "\n",
       "                                                                                                             answer  \n",
       "0  Yes this fits both the nook color and the same-shaped nook tablet                                                 \n",
       "1  No. The nook color or color tablet                                                                                \n",
       "2  I don't think so. The nook color is 5 x 8 so not sure anything smaller would stay locked in, but would be close.  \n",
       "3  yes                                                                                                               \n",
       "4  No, the tab is smaller than the 'color'                                                                           "
      ]
     },
     "execution_count": 57,
     "metadata": {},
     "output_type": "execute_result"
    }
   ],
   "source": [
    "import nltk\n",
    "import string\n",
    "from nltk.corpus import stopwords\n",
    "from nltk.stem.porter import PorterStemmer\n",
    "from nltk.tokenize import word_tokenize\n",
    "porter_stemmer = PorterStemmer()\n",
    "#porter_stemmer.stem('watching')\n",
    "\n",
    "print data_ques_answer[:5]\n",
    "m=[]\n",
    "print \"proses lowercase\"\n",
    "for item in range(5):\n",
    "    text=string.lower(data_ques_answer['question'].iloc[item])\n",
    "    #jawab=string.lower(data_ques_answer['answer'].iloc[item])\n",
    "    #if text is float:\n",
    "    #    print text\n",
    "    data_ques_answer['question'].iloc[item]=text  \n",
    "    #data_ques_answer['answer'].iloc[item]=jawab\n",
    "    \n",
    "    \n",
    "    #if type(data_ques_answer['question']) is float:\n",
    "    #print text   \n",
    "            # test menjorok, untuk proses cepatnya saja \n",
    "print \"banyak data:\", len(data_ques_answer)\n",
    "data_ques_answer.head()\n",
    "#punctuation\n",
    "#tokenisasi\n",
    "\n",
    "\n",
    "#porter_stemmer.stem(string.lower(data_ques_answer.answer[2]))\n",
    "\n"
   ]
  },
  {
   "cell_type": "code",
   "execution_count": 6,
   "metadata": {},
   "outputs": [
    {
     "name": "stdout",
     "output_type": "stream",
     "text": [
      "proses stopword removal\n"
     ]
    },
    {
     "data": {
      "text/html": [
       "<div>\n",
       "<table border=\"1\" class=\"dataframe\">\n",
       "  <thead>\n",
       "    <tr style=\"text-align: right;\">\n",
       "      <th></th>\n",
       "      <th>question</th>\n",
       "      <th>answer</th>\n",
       "    </tr>\n",
       "  </thead>\n",
       "  <tbody>\n",
       "    <tr>\n",
       "      <th>0</th>\n",
       "      <td>cover one fits old nook color? believe 8x5.</td>\n",
       "      <td>is this cover the one that fits the old nook color? which i believe is 8x5.</td>\n",
       "    </tr>\n",
       "    <tr>\n",
       "      <th>1</th>\n",
       "      <td>fit nook glowlight?</td>\n",
       "      <td>does it fit nook glowlight?</td>\n",
       "    </tr>\n",
       "    <tr>\n",
       "      <th>2</th>\n",
       "      <td>would fit nook 1st edition? 4.9in x 7.7in ?</td>\n",
       "      <td>would it fit nook 1st edition? 4.9in x 7.7in ?</td>\n",
       "    </tr>\n",
       "    <tr>\n",
       "      <th>3</th>\n",
       "      <td>fit nook color that's 5 x 8?</td>\n",
       "      <td>will this fit a nook color that's 5 x 8?</td>\n",
       "    </tr>\n",
       "    <tr>\n",
       "      <th>4</th>\n",
       "      <td>fit samsung galaxy tab 4 nook 10.1</td>\n",
       "      <td>will this fit the samsung galaxy tab 4 nook 10.1</td>\n",
       "    </tr>\n",
       "  </tbody>\n",
       "</table>\n",
       "</div>"
      ],
      "text/plain": [
       "                                      question  \\\n",
       "0  cover one fits old nook color? believe 8x5.   \n",
       "1  fit nook glowlight?                           \n",
       "2  would fit nook 1st edition? 4.9in x 7.7in ?   \n",
       "3  fit nook color that's 5 x 8?                  \n",
       "4  fit samsung galaxy tab 4 nook 10.1            \n",
       "\n",
       "                                                                        answer  \n",
       "0  is this cover the one that fits the old nook color? which i believe is 8x5.  \n",
       "1  does it fit nook glowlight?                                                  \n",
       "2  would it fit nook 1st edition? 4.9in x 7.7in ?                               \n",
       "3  will this fit a nook color that's 5 x 8?                                     \n",
       "4  will this fit the samsung galaxy tab 4 nook 10.1                             "
      ]
     },
     "execution_count": 6,
     "metadata": {},
     "output_type": "execute_result"
    }
   ],
   "source": [
    "print \"proses stopword removal\"\n",
    "\n",
    "\n",
    "cachedStopWords = set(stopwords.words(\"english\"))\n",
    "#more_stopwords = {'oh', 'will', 'hey', 'yet', ...}\n",
    "#STOPWORDS = STOPWORDS.union(more_stopwords)\n",
    "#cachedStopWords.update(reader[0][:])\n",
    "\n",
    "#print len(data5)                       \n",
    "#sent='kenapa yg ini harus!'\n",
    "#data5=data4.copy()\n",
    "for i in range(len(data_ques_answer)):\n",
    "    sent=data_ques_answer['question'].iloc[i]\n",
    "    #new_str=\" \".join(\"\".join([\" \" if ch in string.punctuation else ch for ch in sent]).split())\n",
    "    kt=\" \".join([word for word in sent.split() if word not in cachedStopWords])\n",
    "    data_ques_answer['question'].iloc[i]=kt\n",
    "\n",
    "data_ques_answer.head()"
   ]
  },
  {
   "cell_type": "code",
   "execution_count": 7,
   "metadata": {},
   "outputs": [
    {
     "name": "stdout",
     "output_type": "stream",
     "text": [
      "proses punctuation\n"
     ]
    },
    {
     "data": {
      "text/html": [
       "<div>\n",
       "<table border=\"1\" class=\"dataframe\">\n",
       "  <thead>\n",
       "    <tr style=\"text-align: right;\">\n",
       "      <th></th>\n",
       "      <th>question</th>\n",
       "      <th>answer</th>\n",
       "    </tr>\n",
       "  </thead>\n",
       "  <tbody>\n",
       "    <tr>\n",
       "      <th>0</th>\n",
       "      <td>cover one fits old nook color believe 8x5</td>\n",
       "      <td>is this cover the one that fits the old nook color? which i believe is 8x5.</td>\n",
       "    </tr>\n",
       "    <tr>\n",
       "      <th>1</th>\n",
       "      <td>fit nook glowlight</td>\n",
       "      <td>does it fit nook glowlight?</td>\n",
       "    </tr>\n",
       "    <tr>\n",
       "      <th>2</th>\n",
       "      <td>would fit nook 1st edition 4.9in x 7.7in</td>\n",
       "      <td>would it fit nook 1st edition? 4.9in x 7.7in ?</td>\n",
       "    </tr>\n",
       "    <tr>\n",
       "      <th>3</th>\n",
       "      <td>fit nook color that's 5 x 8</td>\n",
       "      <td>will this fit a nook color that's 5 x 8?</td>\n",
       "    </tr>\n",
       "    <tr>\n",
       "      <th>4</th>\n",
       "      <td>fit samsung galaxy tab 4 nook 10.1</td>\n",
       "      <td>will this fit the samsung galaxy tab 4 nook 10.1</td>\n",
       "    </tr>\n",
       "  </tbody>\n",
       "</table>\n",
       "</div>"
      ],
      "text/plain": [
       "                                    question  \\\n",
       "0  cover one fits old nook color believe 8x5   \n",
       "1  fit nook glowlight                          \n",
       "2  would fit nook 1st edition 4.9in x 7.7in    \n",
       "3  fit nook color that's 5 x 8                 \n",
       "4  fit samsung galaxy tab 4 nook 10.1          \n",
       "\n",
       "                                                                        answer  \n",
       "0  is this cover the one that fits the old nook color? which i believe is 8x5.  \n",
       "1  does it fit nook glowlight?                                                  \n",
       "2  would it fit nook 1st edition? 4.9in x 7.7in ?                               \n",
       "3  will this fit a nook color that's 5 x 8?                                     \n",
       "4  will this fit the samsung galaxy tab 4 nook 10.1                             "
      ]
     },
     "execution_count": 7,
     "metadata": {},
     "output_type": "execute_result"
    }
   ],
   "source": [
    "print \"proses punctuation\"\n",
    "remove=string.punctuation\n",
    "#remove = remove.replace(\"@\", \"\") \n",
    "for i in range(len(data_ques_answer)):\n",
    "    sent=data_ques_answer['question'].iloc[i]\n",
    "    kd=' '.join(word.strip(remove) for word in sent.split())\n",
    "    data_ques_answer['question'].iloc[i]=kd\n",
    "data_ques_answer.head()"
   ]
  }
 ],
 "metadata": {
  "kernelspec": {
   "display_name": "Python 2",
   "language": "python",
   "name": "python2"
  },
  "language_info": {
   "codemirror_mode": {
    "name": "ipython",
    "version": 2
   },
   "file_extension": ".py",
   "mimetype": "text/x-python",
   "name": "python",
   "nbconvert_exporter": "python",
   "pygments_lexer": "ipython2",
   "version": "2.7.12"
  }
 },
 "nbformat": 4,
 "nbformat_minor": 2
}

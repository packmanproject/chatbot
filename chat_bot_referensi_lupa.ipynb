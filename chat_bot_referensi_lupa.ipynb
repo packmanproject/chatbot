{
 "cells": [
  {
   "cell_type": "code",
   "execution_count": 1,
   "metadata": {},
   "outputs": [
    {
     "name": "stderr",
     "output_type": "stream",
     "text": [
      "Using TensorFlow backend.\n"
     ]
    }
   ],
   "source": [
    "import nltk\n",
    "from nltk.stem.lancaster import LancasterStemmer\n",
    "stemmer = LancasterStemmer()\n",
    "\n",
    "# things we need for Tensorflow\n",
    "import numpy as np\n",
    "import tflearn\n",
    "import tensorflow as tf\n",
    "import random\n",
    "import Sastrawi\n",
    "import pandas as pd\n",
    "\n",
    "import keras"
   ]
  },
  {
   "cell_type": "code",
   "execution_count": null,
   "metadata": {
    "collapsed": true
   },
   "outputs": [],
   "source": []
  },
  {
   "cell_type": "code",
   "execution_count": 2,
   "metadata": {},
   "outputs": [
    {
     "name": "stdout",
     "output_type": "stream",
     "text": [
      "{u'intents': [{u'patterns': [u'Hi', u'How are you', u'Is anyone there?', u'Hello', u'Good day'], u'tag': u'greeting', u'responses': [u'Hello, thanks for visiting', u'Good to see you again', u'Hi there, how can I help?'], u'context_set': u''}, {u'patterns': [u'Bye', u'See you later', u'Goodbye'], u'tag': u'goodbye', u'responses': [u'See you later, thanks for visiting', u'Have a nice day', u'Bye! Come back again soon.']}, {u'patterns': [u'Thanks', u'Thank you', u\"That's helpful\"], u'tag': u'thanks', u'responses': [u'Happy to help!', u'Any time!', u'My pleasure']}, {u'patterns': [u'What hours are you open?', u'What are your hours?', u'When are you open?'], u'tag': u'hours', u'responses': [u\"We're open every day 9am-9pm\", u'Our hours are 9am-9pm every day']}, {u'patterns': [u'Which mopeds do you have?', u'What kinds of mopeds are there?', u'What do you rent?'], u'tag': u'mopeds', u'responses': [u'We rent Yamaha, Piaggio and Vespa mopeds', u'We have Piaggio, Vespa and Yamaha mopeds']}, {u'patterns': [u'Do you take credit cards?', u'Do you accept Mastercard?', u'Are you cash only?'], u'tag': u'payments', u'responses': [u'We accept VISA, Mastercard and AMEX', u'We accept most major credit cards']}, {u'patterns': [u'Are you open today?', u'When do you open today?', u'What are your hours today?'], u'tag': u'opentoday', u'responses': [u\"We're open every day from 9am-9pm\", u'Our hours are 9am-9pm every day']}, {u'patterns': [u'Can we rent a moped?', u\"I'd like to rent a moped\", u'How does this work?'], u'tag': u'rental', u'responses': [u'Are you looking to rent today or later this week?'], u'context_set': u'rentalday'}, {u'patterns': [u'today'], u'tag': u'today', u'context_filter': u'rentalday', u'responses': [u'For rentals today please call 1-800-MYMOPED', u'Same-day rentals please call 1-800-MYMOPED']}]}\n"
     ]
    }
   ],
   "source": [
    "import json\n",
    "with open('intents.json') as json_data:\n",
    "    intents = json.load(json_data)\n",
    "    print intents\n",
    "\n"
   ]
  },
  {
   "cell_type": "code",
   "execution_count": 5,
   "metadata": {},
   "outputs": [
    {
     "name": "stdout",
     "output_type": "stream",
     "text": [
      "[([u'Hi'], u'greeting'), ([u'How', u'are', u'you'], u'greeting'), ([u'Is', u'anyone', u'there', u'?'], u'greeting'), ([u'Hello'], u'greeting'), ([u'Good', u'day'], u'greeting'), ([u'Bye'], u'goodbye'), ([u'See', u'you', u'later'], u'goodbye'), ([u'Goodbye'], u'goodbye'), ([u'Thanks'], u'thanks'), ([u'Thank', u'you'], u'thanks'), ([u'That', u\"'s\", u'helpful'], u'thanks'), ([u'What', u'hours', u'are', u'you', u'open', u'?'], u'hours'), ([u'What', u'are', u'your', u'hours', u'?'], u'hours'), ([u'When', u'are', u'you', u'open', u'?'], u'hours'), ([u'Which', u'mopeds', u'do', u'you', u'have', u'?'], u'mopeds'), ([u'What', u'kinds', u'of', u'mopeds', u'are', u'there', u'?'], u'mopeds'), ([u'What', u'do', u'you', u'rent', u'?'], u'mopeds'), ([u'Do', u'you', u'take', u'credit', u'cards', u'?'], u'payments'), ([u'Do', u'you', u'accept', u'Mastercard', u'?'], u'payments'), ([u'Are', u'you', u'cash', u'only', u'?'], u'payments'), ([u'Are', u'you', u'open', u'today', u'?'], u'opentoday'), ([u'When', u'do', u'you', u'open', u'today', u'?'], u'opentoday'), ([u'What', u'are', u'your', u'hours', u'today', u'?'], u'opentoday'), ([u'Can', u'we', u'rent', u'a', u'moped', u'?'], u'rental'), ([u'I', u\"'d\", u'like', u'to', u'rent', u'a', u'moped'], u'rental'), ([u'How', u'does', u'this', u'work', u'?'], u'rental'), ([u'today'], u'today')]\n"
     ]
    }
   ],
   "source": [
    "words = []\n",
    "classes = []\n",
    "documents = []\n",
    "ignore_words = ['?']\n",
    "# loop through each sentence in our intents patterns\n",
    "for intent in intents['intents']:\n",
    "    for pattern in intent['patterns']:\n",
    "        # tokenize each word in the sentence\n",
    "        w = nltk.word_tokenize(pattern)\n",
    "        # add to our words list\n",
    "        words.extend(w)\n",
    "        # add to documents in our corpus\n",
    "        documents.append((w, intent['tag']))\n",
    "        # add to our classes list\n",
    "        if intent['tag'] not in classes:\n",
    "            classes.append(intent['tag'])\n",
    "\n",
    "# stem and lower each word and remove duplicates\n",
    "words = [stemmer.stem(w.lower()) for w in words if w not in ignore_words]\n",
    "words = sorted(list(set(words)))\n",
    "\n",
    "# remove duplicates\n",
    "classes = sorted(list(set(classes)))\n",
    "\n",
    "#print (len(documents), \"documents\")\n",
    "#print (len(classes), \"classes\", classes)\n",
    "#print (len(words), \"unique stemmed words\", words)\n",
    "\n",
    "print documents"
   ]
  },
  {
   "cell_type": "code",
   "execution_count": 9,
   "metadata": {},
   "outputs": [
    {
     "data": {
      "text/plain": [
       "27"
      ]
     },
     "execution_count": 9,
     "metadata": {},
     "output_type": "execute_result"
    }
   ],
   "source": [
    "# create our training data\n",
    "training = []\n",
    "output = []\n",
    "# create an empty array for our output\n",
    "output_empty = [0] * len(classes)\n",
    "\n",
    "# training set, bag of words for each sentence\n",
    "for doc in documents:\n",
    "    # initialize our bag of words\n",
    "    bag = []\n",
    "    # list of tokenized words for the pattern\n",
    "    pattern_words = doc[0]\n",
    "    # stem each word\n",
    "    pattern_words = [stemmer.stem(word.lower()) for word in pattern_words]\n",
    "    # create our bag of words array\n",
    "    for w in words:\n",
    "        bag.append(1) if w in pattern_words else bag.append(0)\n",
    "\n",
    "    # output is a '0' for each tag and '1' for current tag\n",
    "    output_row = list(output_empty)\n",
    "    output_row[classes.index(doc[1])] = 1\n",
    "\n",
    "    training.append([bag, output_row])\n",
    "\n",
    "# shuffle our features and turn into np.array\n",
    "random.shuffle(training)\n",
    "training = np.array(training)\n",
    "\n",
    "# create train and test lists\n",
    "train_x = list(training[:,0])\n",
    "train_y = list(training[:,1])\n",
    "\n",
    "len(train_x)"
   ]
  },
  {
   "cell_type": "code",
   "execution_count": 11,
   "metadata": {},
   "outputs": [
    {
     "name": "stdout",
     "output_type": "stream",
     "text": [
      "Training Step: 3999  | total loss: \u001b[1m\u001b[32m0.59983\u001b[0m\u001b[0m | time: 0.016s\n",
      "| Adam | epoch: 1000 | loss: 0.59983 - acc: 0.9273 -- iter: 24/27\n",
      "Training Step: 4000  | total loss: \u001b[1m\u001b[32m0.59306\u001b[0m\u001b[0m | time: 0.023s\n",
      "| Adam | epoch: 1000 | loss: 0.59306 - acc: 0.9013 -- iter: 27/27\n",
      "--\n",
      "INFO:tensorflow:/home/ahmad/Documents/belajar/chatbot-practice-master/model.tflearn is not in all_model_checkpoint_paths. Manually adding it.\n"
     ]
    }
   ],
   "source": [
    "# reset underlying graph data\n",
    "tf.reset_default_graph()\n",
    "keras.\n",
    "# Build neural network\n",
    "net = tflearn.input_data(shape=[None, len(train_x[0])])\n",
    "net = tflearn.fully_connected(net, 8)\n",
    "net = tflearn.fully_connected(net, 8)\n",
    "net = tflearn.fully_connected(net, len(train_y[0]), activation='softmax')\n",
    "net = tflearn.regression(net)\n",
    "\n",
    "# Define model and setup tensorboard\n",
    "model = tflearn.DNN(net, tensorboard_dir='tflearn_logs')\n",
    "# Start training (apply gradient descent algorithm)\n",
    "model.fit(train_x, train_y, n_epoch=1000, batch_size=8, show_metric=True)\n",
    "model.save('model.tflearn')"
   ]
  },
  {
   "cell_type": "code",
   "execution_count": 13,
   "metadata": {
    "collapsed": true
   },
   "outputs": [],
   "source": [
    "def clean_up_sentence(sentence):\n",
    "    # tokenize the pattern\n",
    "    sentence_words = nltk.word_tokenize(sentence)\n",
    "    # stem each word\n",
    "    sentence_words = [stemmer.stem(word.lower()) for word in sentence_words]\n",
    "    return sentence_words\n",
    "\n",
    "# return bag of words array: 0 or 1 for each word in the bag that exists in the sentence\n",
    "def bow(sentence, words, show_details=False):\n",
    "    # tokenize the pattern\n",
    "    sentence_words = clean_up_sentence(sentence)\n",
    "    # bag of words\n",
    "    bag = [0]*len(words)  \n",
    "    for s in sentence_words:\n",
    "        for i,w in enumerate(words):\n",
    "            if w == s: \n",
    "                bag[i] = 1\n",
    "                if show_details:\n",
    "                    print (\"found in bag: %s\" % w)\n",
    "\n",
    "    return(np.array(bag))"
   ]
  },
  {
   "cell_type": "code",
   "execution_count": 15,
   "metadata": {},
   "outputs": [
    {
     "name": "stdout",
     "output_type": "stream",
     "text": [
      "[0 0 0 0 0 0 0 0 0 0 0 0 0 0 0 0 0 0 0 0 0 0 0 1 0 0 0 0 0 0 0 1 0 0 0 0 0\n",
      " 0 0 0 1 0 0 0 0 0 1 0]\n",
      "[u'goodbye', u'greeting', u'hours', u'mopeds', u'opentoday', u'payments', u'rental', u'thanks', u'today']\n",
      "[[  1.27641752e-03   2.55473959e-03   5.65188378e-02   2.64283171e-05\n",
      "    5.29385924e-01   1.10234844e-03   4.45087535e-05   2.88776070e-01\n",
      "    1.20314747e-01]]\n"
     ]
    }
   ],
   "source": [
    "p = bow(\"is your shop open today?\", words)\n",
    "print (p)\n",
    "print (classes)\n",
    "print(model.predict([p]))"
   ]
  },
  {
   "cell_type": "code",
   "execution_count": 16,
   "metadata": {
    "collapsed": true
   },
   "outputs": [],
   "source": [
    "# save all of our data structures\n",
    "import pickle\n",
    "pickle.dump( {'words':words, 'classes':classes, 'train_x':train_x, 'train_y':train_y}, open( \"training_data\", \"wb\" ) )"
   ]
  },
  {
   "cell_type": "code",
   "execution_count": 17,
   "metadata": {
    "collapsed": true
   },
   "outputs": [],
   "source": [
    "model.load('./model.tflearn')"
   ]
  },
  {
   "cell_type": "code",
   "execution_count": 21,
   "metadata": {
    "collapsed": true
   },
   "outputs": [],
   "source": [
    "# create a data structure to hold user context\n",
    "context = {}\n",
    "\n",
    "ERROR_THRESHOLD = 0.25\n",
    "def classify(sentence):\n",
    "    # generate probabilities from the model\n",
    "    results = model.predict([bow(sentence, words)])[0]\n",
    "    # filter out predictions below a threshold\n",
    "    results = [[i,r] for i,r in enumerate(results) if r>ERROR_THRESHOLD]\n",
    "    # sort by strength of probability\n",
    "    results.sort(key=lambda x: x[1], reverse=True)\n",
    "    return_list = []\n",
    "    for r in results:\n",
    "        return_list.append((classes[r[0]], r[1]))\n",
    "    # return tuple of intent and probability\n",
    "    return return_list\n",
    "\n",
    "def response(sentence, userID='123', show_details=False):\n",
    "    results = classify(sentence)\n",
    "    # if we have a classification then find the matching intent tag\n",
    "    if results:\n",
    "        # loop as long as there are matches to process\n",
    "        while results:\n",
    "            for i in intents['intents']:\n",
    "                # find a tag matching the first result\n",
    "                if i['tag'] == results[0][0]:\n",
    "                    # set context for this intent if necessary\n",
    "                    if 'context_set' in i:\n",
    "                        if show_details: print ('context:', i['context_set'])\n",
    "                        context[userID] = i['context_set']\n",
    "\n",
    "                    # check if this intent is contextual and applies to this user's conversation\n",
    "                    if not 'context_filter' in i or \\\n",
    "                        (userID in context and 'context_filter' in i and i['context_filter'] == context[userID]):\n",
    "                        if show_details: print ('tag:', i['tag'])\n",
    "                        # a random response from the intent\n",
    "                        return random.choice(i['responses'])\n",
    "\n",
    "            results.pop(0)"
   ]
  },
  {
   "cell_type": "code",
   "execution_count": 22,
   "metadata": {},
   "outputs": [
    {
     "data": {
      "text/plain": [
       "[(u'opentoday', 0.88606346)]"
      ]
     },
     "execution_count": 22,
     "metadata": {},
     "output_type": "execute_result"
    }
   ],
   "source": [
    "classify('is your shop open today?')"
   ]
  },
  {
   "cell_type": "code",
   "execution_count": 30,
   "metadata": {},
   "outputs": [
    {
     "data": {
      "text/plain": [
       "u'My pleasure'"
      ]
     },
     "execution_count": 30,
     "metadata": {},
     "output_type": "execute_result"
    }
   ],
   "source": [
    "response('thanks you')"
   ]
  }
 ],
 "metadata": {
  "kernelspec": {
   "display_name": "Python 2",
   "language": "python",
   "name": "python2"
  },
  "language_info": {
   "codemirror_mode": {
    "name": "ipython",
    "version": 2
   },
   "file_extension": ".py",
   "mimetype": "text/x-python",
   "name": "python",
   "nbconvert_exporter": "python",
   "pygments_lexer": "ipython2",
   "version": "2.7.12"
  }
 },
 "nbformat": 4,
 "nbformat_minor": 2
}
